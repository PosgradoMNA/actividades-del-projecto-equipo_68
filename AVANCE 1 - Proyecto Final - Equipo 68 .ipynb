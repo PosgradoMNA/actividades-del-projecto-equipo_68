{
 "cells": [
  {
   "cell_type": "markdown",
   "id": "331ee74b",
   "metadata": {},
   "source": [
    "# Avance 1 del Proyecto Final \n",
    "\n",
    "EQUIPO 68 \n",
    "\n",
    "Denisse María Ramírez Colmenero    A01561497 \n",
    "Emmanuel González Calitl           A01320739\n",
    "\n",
    "24 de Septiembre de 2022\n",
    "\n",
    "-------------------------------------------------------------------------------\n",
    "\n",
    "1. Nombre del Conjunto de Datos:  Credit Card Customers \n",
    "\n",
    "2. Organización que generó el conjunto de datos: LEAPS Analyttica TreasureHunt (owner: Sakshi Goyal) \n",
    "\n",
    "3. Link de internet: https://www.kaggle.com/datasets/sakshigoyal7/credit-card-customers\n",
    "\n",
    "4. Descripción del conjunto de datos: \n",
    "Este conjunto de datos muestra la información de 10,000 tarjetahabientes como lo es edad, género, salario, estado civil, limite de tarjeta de credito, etc. todo esto para predecir si los clientes pudieran querer cambiarse de banco para así actuar de manera proactiva para brindar mejores servicios y cambiar la decisión del cliente. El conjunto de datos contiene alrededor de 18 caracteristicas de los clientes.  \n",
    "\n",
    "5. Preguntas de investigación propuestas: \n",
    "   1. ¿Cómo influye el estado civíl de los clientes al querer cambiarse de banco? \n",
    "   2. ¿Qué papel juega los ingresos de las personas para mantenerse o no fieles al banco?\n",
    "   3. ¿Los meses de inactividad del cliente pudieran predecir su abandono al banco? \n",
    "   4. ¿Una persona mayor tendría mayor probabilidad de seguir siendo cliente a otra persona más joven? \n",
    "   5. ¿Podría ayudar a la predicción de \"Churning\" el tener acceso al nivel educativo del cliente?\n",
    "   6. ¿A mayor limite de crédito el cliente podría estar más satisfecho con el servicio del banco y pudiera tener una mayor permanencia? \n",
    "   7. ¿Un cliente con más meses perteneciendo a esta empresa podría tener menor o mayor probabilidad de abandono?\n",
    "   8. ¿El abandono podría estar en función a las transacciones que realiza el cliente mensualmente? \n",
    "   9. ¿Tiene mayor probablidad de abandono una persona con tarjeta de crédito \"Blue\" que una persona con tarjeta \"Gold\"?     10.¿Qué factores estan relacionados al poco uso de la tarjeta (\"Average Utilization Ratio\")?\n",
    "   \n",
    "\n",
    "6. Actor (gobierno, sector de la ciudad, empresa, etc.) interesado en las preguntas mencionadas: \n",
    "\n",
    "   Directivos de las grupos financieros tanto del banco al que pertenecen los datos como la competencia de dicho banco. \n",
    "\n",
    "\n",
    "\n"
   ]
  }
 ],
 "metadata": {
  "kernelspec": {
   "display_name": "Python 3 (ipykernel)",
   "language": "python",
   "name": "python3"
  },
  "language_info": {
   "codemirror_mode": {
    "name": "ipython",
    "version": 3
   },
   "file_extension": ".py",
   "mimetype": "text/x-python",
   "name": "python",
   "nbconvert_exporter": "python",
   "pygments_lexer": "ipython3",
   "version": "3.10.5"
  }
 },
 "nbformat": 4,
 "nbformat_minor": 5
}
